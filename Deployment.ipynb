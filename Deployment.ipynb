{
 "cells": [
  {
   "cell_type": "code",
   "execution_count": 9,
   "id": "f4dc780c",
   "metadata": {},
   "outputs": [
    {
     "ename": "SyntaxError",
     "evalue": "invalid syntax (1934011326.py, line 118)",
     "output_type": "error",
     "traceback": [
      "\u001b[1;36m  Cell \u001b[1;32mIn[9], line 118\u001b[1;36m\u001b[0m\n\u001b[1;33m    streamlit hello\u001b[0m\n\u001b[1;37m              ^\u001b[0m\n\u001b[1;31mSyntaxError\u001b[0m\u001b[1;31m:\u001b[0m invalid syntax\n"
     ]
    }
   ],
   "source": [
    "import streamlit as st\n",
    "import pandas as pd\n",
    "from sklearn.linear_model import LogisticRegression\n",
    "from sklearn.model_selection import train_test_split\n",
    "from sklearn.preprocessing import StandardScaler\n",
    "from sklearn.metrics import confusion_matrix\n",
    "import matplotlib.pyplot as plt\n",
    "\n",
    "from PIL import Image as img\n",
    "from tkinter import Image\n",
    "\n",
    "img=('MILLET.jpg')  # type: ignores\n",
    "\n",
    "st.image(img, width=150)\n",
    "\n",
    "train_df = pd.read_csv(\"yield3.csv\")\n",
    "train_df.dropna(inplace=True)\n",
    "print(train_df.head())\n",
    "\n",
    "crop_data = pd.get_dummies(train_df['Crop_Name'], drop_first = True)\n",
    "print(crop_data)\n",
    "train_df = pd.concat([train_df, crop_data], axis = 1)\n",
    "print(train_df)\n",
    "\n",
    "#train_df.drop(['Crop_Name'], axis = 1, inplace = True)\n",
    "#print(train_df)\n",
    "\n",
    "features= train_df[['Rainfall', 'Humidity', 'Temperature', 'Pesticides', 'Soil_ph', \n",
    "'N','P','K','Area_Planted']]\n",
    "tests = train_df['Maize']\n",
    "X_train , X_test , y_train , y_test = train_test_split(features , tests ,test_size = 0.3)\n",
    "\n",
    "scaler = StandardScaler()\n",
    "train_features = scaler.fit_transform(X_train)\n",
    "test_features = scaler.transform(X_test)\n",
    "\n",
    "# Create and train the model\n",
    "model = LogisticRegression()\n",
    "model.fit(train_features , y_train)\n",
    "train_score = model.score(train_features,y_train)\n",
    "test_score = model.score(test_features,y_test)\n",
    "y_predict = model.predict(test_features)\n",
    "print(train_score)\n",
    "print(test_score)\n",
    "print(y_predict)\n",
    "import pickle\n",
    "\n",
    "# save the model to disk\n",
    "filename = 'logistic_reg.pkl'\n",
    "pickle.dump(filename, open(filename, 'wb'))\n",
    "\n",
    "# load the model from disk\n",
    "loaded_model = pickle.load(open(filename, 'rb'))\n",
    "\n",
    "\n",
    "\n",
    "\n",
    "st.markdown(\"\")\n",
    "\n",
    "html_temp = \"\"\"\n",
    "<div style = \"background-color:green; padding: 14px\">\n",
    "<h1 style = \"color: black; text-align: centre; \"> CROP YIELD PREDICTION APP--ML\n",
    "</h1>\n",
    "</div>\n",
    "\"\"\"\n",
    "st.markdown(html_temp, unsafe_allow_html = True)\n",
    "\n",
    "Place = st.selectbox('DISTRICT',('Gwanda','Umzingwane','Insiza','Matobo','Beitbridge'))\n",
    "\n",
    "Crop_Name = st.selectbox('CROP NAME',('Maize','Sorghum','Cowpeas','FingerMillet','Soyabeans','Wheat',\n",
    "'Groundnut','Sweet Potato','Sugarbean','Tomatoes','Cabbage','Black pepper','Irish Potato','Onion',\n",
    "'Butternut','Sunflower','Carrot','Pumpkin'))\n",
    "\n",
    "Rainfall = st.slider(\"RAINFALL (MM)\", 1, 5000,1)\n",
    "Humidity = st.slider(\"HUMIDITY (%)\", 1, 100,1)\n",
    "Temperature = st.slider(\"TEMPERATURE (Degrees Celcius)\", 1, 100,1)\n",
    "Pesticides = st.slider(\"PESTICIDES (Tonnes)\", 1, 5000,1)\n",
    "Soil_ph = st.slider(\"SOIL PH\", 1, 14,1)\n",
    "N = st.slider(\"Nitrogen\", 1, 500,1)\n",
    "P = st.slider(\"Phosphorous\", 1, 500,1)\n",
    "K = st.slider(\"Potassium\", 1, 500,1)\n",
    "Area_Planted = st.slider(\"Area Planted (Hectares)\", 1, 50000,1)\n",
    "\n",
    "safe_html=\"\"\"\n",
    "<div style=\"background-color:green;padding:10px\">\n",
    "<h2 style=\"color:white:text-align-centre:\">Crop Yield is High</h2>\n",
    "</div>\n",
    "\"\"\"\n",
    "\n",
    "danger_html=\"\"\"\n",
    "<div style=\"background-color:#880808;padding:10px\">\n",
    "<h2 style=\"color:black:text-align-centre:\">Crop Yield is LOW</h2>\n",
    "</div>\n",
    "\"\"\"\n",
    "\n",
    "\n",
    "if st.button('Predict '):\n",
    "   input_data = scaler.transform([[Rainfall,Humidity,Temperature,Pesticides,Soil_ph, N,P,K,Area_Planted]])\n",
    "   prediction = model.predict(input_data)\n",
    "   predict_yieldProduction = prediction \n",
    "   predict_yieldProduction = model.predict_proba(input_data)*4.5\n",
    "   \n",
    "   yield_per_hectare = predict_yieldProduction/Area_Planted\n",
    "\n",
    "   st.subheader('{} Crop in {} District has Total Production Yield: {} tonnes'.format(Crop_Name, Place , round(predict_yieldProduction[0][1]*55000, 3)))\n",
    "   st.subheader('{} Yield Per Hectare: {} tonnes'.format(Crop_Name, round(predict_yieldProduction[0][1]/(Area_Planted)*55000, 3)))\n",
    "   #st.subheader('Yield per hectare is {} tonnes'.format( round(yield_per_hectare, 3)))\n",
    "   \n",
    "   #if predict_yieldProduction[0][1]*100 < 20:\n",
    "   if yield_per_hectare [0][1]*55000 < 10.0:\n",
    "       #st.subheader('Predicted yield is low')\n",
    "       st.markdown(danger_html,unsafe_allow_html=True)\n",
    "\t  \n",
    "   else:\n",
    "        #st.subheader('Predicted yield is high')\n",
    "        st.markdown(safe_html,unsafe_allow_html=True)\n",
    "        \n",
    "\n",
    "        \n"
   ]
  },
  {
   "cell_type": "code",
   "execution_count": 8,
   "id": "00dff3ed",
   "metadata": {},
   "outputs": [
    {
     "ename": "SyntaxError",
     "evalue": "invalid syntax (1891715455.py, line 1)",
     "output_type": "error",
     "traceback": [
      "\u001b[1;36m  Cell \u001b[1;32mIn[8], line 1\u001b[1;36m\u001b[0m\n\u001b[1;33m    streamlit hello\u001b[0m\n\u001b[1;37m              ^\u001b[0m\n\u001b[1;31mSyntaxError\u001b[0m\u001b[1;31m:\u001b[0m invalid syntax\n"
     ]
    }
   ],
   "source": [
    "\n"
   ]
  },
  {
   "cell_type": "code",
   "execution_count": 10,
   "id": "e3d8c0d1",
   "metadata": {},
   "outputs": [
    {
     "ename": "SyntaxError",
     "evalue": "invalid syntax (3031887691.py, line 1)",
     "output_type": "error",
     "traceback": [
      "\u001b[1;36m  Cell \u001b[1;32mIn[10], line 1\u001b[1;36m\u001b[0m\n\u001b[1;33m    streamlit hello\u001b[0m\n\u001b[1;37m              ^\u001b[0m\n\u001b[1;31mSyntaxError\u001b[0m\u001b[1;31m:\u001b[0m invalid syntax\n"
     ]
    }
   ],
   "source": [
    "streamlit hello\n"
   ]
  },
  {
   "cell_type": "code",
   "execution_count": null,
   "id": "906c46ef",
   "metadata": {},
   "outputs": [],
   "source": []
  }
 ],
 "metadata": {
  "kernelspec": {
   "display_name": "Python 3 (ipykernel)",
   "language": "python",
   "name": "python3"
  },
  "language_info": {
   "codemirror_mode": {
    "name": "ipython",
    "version": 3
   },
   "file_extension": ".py",
   "mimetype": "text/x-python",
   "name": "python",
   "nbconvert_exporter": "python",
   "pygments_lexer": "ipython3",
   "version": "3.10.9"
  }
 },
 "nbformat": 4,
 "nbformat_minor": 5
}
